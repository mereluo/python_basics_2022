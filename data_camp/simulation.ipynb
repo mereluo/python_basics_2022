{
 "cells": [
  {
   "cell_type": "markdown",
   "metadata": {},
   "source": [
    "Jan 26th\n",
    "Meredith Luo\n",
    "## 1. Introduction to random variables"
   ]
  },
  {
   "cell_type": "code",
   "execution_count": 1,
   "metadata": {},
   "outputs": [],
   "source": [
    "import numpy as np"
   ]
  },
  {
   "cell_type": "markdown",
   "metadata": {},
   "source": [
    "### Poisson random variable"
   ]
  },
  {
   "cell_type": "code",
   "execution_count": 7,
   "metadata": {},
   "outputs": [
    {
     "name": "stdout",
     "output_type": "stream",
     "text": [
      "[ 7  3  6  2  5  2  3  1  5  2  3  4  8  8  2  5 10  9  6  7]\n"
     ]
    },
    {
     "data": {
      "text/plain": [
       "0.09999999999999964"
      ]
     },
     "execution_count": 7,
     "metadata": {},
     "output_type": "execute_result"
    }
   ],
   "source": [
    "lam, size = 5, 20\n",
    "samples = np.random.poisson(lam, size)\n",
    "print(samples)\n",
    "abs(np.mean(samples)-lam)"
   ]
  },
  {
   "cell_type": "markdown",
   "metadata": {},
   "source": [
    "### Simulation steps\n",
    "\n",
    "1. Define possible outcomes for random variables\n",
    "2. Assign probabilities\n",
    "3. Define relationships between random variables\n",
    "4. Get multiple outcomes by repeated random sampling.\n",
    "5. Analyze sample outcomes.\n"
   ]
  },
  {
   "cell_type": "code",
   "execution_count": 11,
   "metadata": {},
   "outputs": [
    {
     "name": "stdout",
     "output_type": "stream",
     "text": [
      "outcome of the throw: 4\n"
     ]
    }
   ],
   "source": [
    "# get a die, probabilities, throw\n",
    "die, probabilities, throws = [1,2,3,4,5,6], [1/6]*6, 1\n",
    "\n",
    "# throw a die\n",
    "outcome = np.random.choice(die, size=1, p=probabilities)\n",
    "\n",
    "print(\"outcome of the throw: {}\".format(outcome[0]))"
   ]
  },
  {
   "cell_type": "code",
   "execution_count": 20,
   "metadata": {},
   "outputs": [
    {
     "name": "stdout",
     "output_type": "stream",
     "text": [
      "in 100 games, you win 20 times\n"
     ]
    }
   ],
   "source": [
    "# die setup\n",
    "die, probabilities, throws = [1,2,3,4,5,6], [1/6]*6, 2\n",
    "\n",
    "# sims setup\n",
    "sims, wins = 100, 0\n",
    "\n",
    "# simulation machine\n",
    "for i in range(sims):\n",
    "    outcomes = np.random.choice(die, size=throws, p=probabilities)\n",
    "    if outcomes[0] == outcomes[1]:\n",
    "        wins += 1\n",
    "\n",
    "print(\"in {} games, you win {} times\".format(sims, wins))"
   ]
  },
  {
   "cell_type": "markdown",
   "metadata": {},
   "source": [
    "### Simulating lottery drawing\n",
    "\n",
    "We will use simulations to figure out whether or not we want to buy a lottery ticket. Suppose you have the opportunity to buy a lottery ticket which gives you a shot at a grand prize of 10,000. There are 1000 tickets in total. Your probability of winning is 1 in 1000. Each ticket costs 10. Let's use our understanding of basic simulations to first simulate one drawing of the lottery."
   ]
  },
  {
   "cell_type": "code",
   "execution_count": 27,
   "metadata": {},
   "outputs": [
    {
     "name": "stdout",
     "output_type": "stream",
     "text": [
      "average payoff from 2000 simulations = -5.0\n"
     ]
    }
   ],
   "source": [
    "# setting up the system\n",
    "cost, num_ticket, grand_prize = 10, 1000, 10000\n",
    "chance_of_winning = 1/num_ticket\n",
    "potential_outcomes = [-cost, grand_prize-cost]\n",
    "probs = [1-chance_of_winning, chance_of_winning]\n",
    "\n",
    "size = 2000\n",
    "outcomes = np.random.choice(a=potential_outcomes, size=size, p=probs, replace=True)\n",
    "\n",
    "print('average payoff from {} simulations = {}'.format(size, np.mean(outcomes)))"
   ]
  },
  {
   "cell_type": "markdown",
   "metadata": {},
   "source": [
    "## 2. Probability basics"
   ]
  },
  {
   "cell_type": "markdown",
   "metadata": {},
   "source": [
    "1. Construct sample space or population.\n",
    "2. Determine how to simulate one outcome.\n",
    "3. Determine rule for success.\n",
    "4. Sample repeatedly and count successes.\n",
    "5. Calculate frequency of successes as an estimate of probability"
   ]
  },
  {
   "cell_type": "markdown",
   "metadata": {},
   "source": [
    "### Two of kind\n",
    "Two of a kind is when you get two cards of different suites but having the same numeric value (e.g., 2 of hearts, 2 of spades, and 3 other cards)."
   ]
  },
  {
   "cell_type": "code",
   "execution_count": 28,
   "metadata": {},
   "outputs": [],
   "source": [
    "deck_of_cards = [('Heart', 6), ('Club', 1), ('Diamond', 9), ('Club', 3),\n",
    " ('Heart', 3), ('Club', 9), ('Diamond', 6), ('Spade', 7), ('Diamond', 12), ('Diamond', 10),\n",
    " ('Diamond', 2), ('Diamond', 1), ('Diamond', 11), ('Spade', 2), ('Club', 0), ('Heart', 12), ('Spade', 1),\n",
    " ('Club', 10), ('Spade', 12), ('Spade', 10), ('Club', 7), ('Heart', 0), ('Heart', 10),\n",
    " ('Diamond', 4), ('Diamond', 3), ('Spade', 6), ('Spade', 8), ('Heart', 11), ('Club', 2),\n",
    " ('Club', 8), ('Heart', 7), ('Spade', 5), ('Spade', 0), ('Heart', 5), ('Spade', 9),\n",
    " ('Spade', 11), ('Diamond', 7), ('Diamond', 0), ('Diamond', 5), ('Club', 11),\n",
    " ('Heart', 2), ('Heart', 9), ('Club', 12), ('Club', 4), ('Heart', 1), ('Heart', 8),\n",
    " ('Spade', 4), ('Diamond', 8), ('Heart', 4), ('Club', 5), ('Club', 6), ('Spade', 3)]"
   ]
  },
  {
   "cell_type": "code",
   "execution_count": 35,
   "metadata": {},
   "outputs": [
    {
     "name": "stdout",
     "output_type": "stream",
     "text": [
      "Probability of seeing at least two of a kind = 0.4983\n"
     ]
    }
   ],
   "source": [
    "# shuffle deck & count card occurences in hand\n",
    "n_sims, two_kind = 10000, 0\n",
    "\n",
    "for i in range(n_sims):\n",
    "    np.random.shuffle(deck_of_cards)\n",
    "    hand, cards_in_hand = deck_of_cards[0:5], {}\n",
    "    for [suite, numeric_value] in hand:\n",
    "        # if numeric_value exists, then +1, if not, then 0\n",
    "        cards_in_hand[numeric_value] = cards_in_hand.get(numeric_value, 0)+1\n",
    "    if max(cards_in_hand.values())>=2:\n",
    "        two_kind += 1\n",
    "\n",
    "print(\"Probability of seeing at least two of a kind = {}\".format(two_kind/n_sims))"
   ]
  },
  {
   "cell_type": "code",
   "execution_count": 33,
   "metadata": {},
   "outputs": [
    {
     "data": {
      "text/plain": [
       "{12: 1, 4: 1, 9: 1, 1: 1, 8: 1}"
      ]
     },
     "execution_count": 33,
     "metadata": {},
     "output_type": "execute_result"
    }
   ],
   "source": []
  },
  {
   "cell_type": "code",
   "execution_count": null,
   "metadata": {},
   "outputs": [],
   "source": []
  },
  {
   "cell_type": "code",
   "execution_count": null,
   "metadata": {},
   "outputs": [],
   "source": []
  }
 ],
 "metadata": {
  "kernelspec": {
   "display_name": "Python 3",
   "language": "python",
   "name": "python3"
  },
  "language_info": {
   "codemirror_mode": {
    "name": "ipython",
    "version": 3
   },
   "file_extension": ".py",
   "mimetype": "text/x-python",
   "name": "python",
   "nbconvert_exporter": "python",
   "pygments_lexer": "ipython3",
   "version": "3.7.4"
  }
 },
 "nbformat": 4,
 "nbformat_minor": 2
}
