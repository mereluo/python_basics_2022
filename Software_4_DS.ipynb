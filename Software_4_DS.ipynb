{
 "cells": [
  {
   "cell_type": "markdown",
   "id": "62e8f2e5",
   "metadata": {},
   "source": [
    "# Sofeware Engineering for Data Scientist"
   ]
  },
  {
   "cell_type": "markdown",
   "id": "334a52d9",
   "metadata": {},
   "source": [
    "* **Modularity**\n",
    "    * Readability, maintainability, solve problem only once\n",
    "    * Object, Class, Package\n",
    "* **Documentation**\n",
    "    * Prevent confusion and frustration\n",
    "* **Testing**\n",
    "    * Find & fix more bugs, run tests anytime/anywhere"
   ]
  },
  {
   "cell_type": "markdown",
   "id": "7949a4ce",
   "metadata": {},
   "source": [
    "## 1. PEP 8 coding style"
   ]
  },
  {
   "cell_type": "code",
   "execution_count": 6,
   "id": "f2e2e43a",
   "metadata": {},
   "outputs": [],
   "source": [
    "%%capture\n",
    "# PEP 8 coding style\n",
    "!pip install pycodestyle\n",
    "\n",
    "# pycodestyle xx.py"
   ]
  },
  {
   "cell_type": "code",
   "execution_count": 20,
   "id": "b526f6b9",
   "metadata": {},
   "outputs": [
    {
     "name": "stderr",
     "output_type": "stream",
     "text": [
      "13:1: W391 blank line at end of file\n"
     ]
    }
   ],
   "source": [
    "%%capture\n",
    "# Import needed package\n",
    "import pycodestyle\n",
    "\n",
    "# Create a StyleGuide instance\n",
    "style_checker = pycodestyle.StyleGuide()\n",
    "\n",
    "# Run PEP 8 check on multiple files\n",
    "result = style_checker.check_files(['DataTypes.ipynb',\n",
    "                                    'Efficient_Python.ipynb'])\n",
    "\n",
    "# Print result of PEP 8 style check\n",
    "print(result.messages)"
   ]
  },
  {
   "cell_type": "code",
   "execution_count": 10,
   "id": "90bcc8b2",
   "metadata": {},
   "outputs": [],
   "source": [
    "%%capture\n",
    "pip install flake8 pycodestyle_magic"
   ]
  },
  {
   "cell_type": "code",
   "execution_count": 11,
   "id": "8e9ad885",
   "metadata": {
    "scrolled": true
   },
   "outputs": [],
   "source": [
    "%load_ext pycodestyle_magic"
   ]
  },
  {
   "cell_type": "code",
   "execution_count": 12,
   "id": "ade47426",
   "metadata": {},
   "outputs": [],
   "source": [
    "%pycodestyle_on\n",
    "# start to check jupyter notebook's style"
   ]
  },
  {
   "cell_type": "markdown",
   "id": "c458279b",
   "metadata": {},
   "source": [
    "## 2. Writing First Package"
   ]
  },
  {
   "cell_type": "markdown",
   "id": "a85c02e7",
   "metadata": {},
   "source": [
    "<div>\n",
    "<img src=\"py_package.png\" width=\"600\"/>\n",
    "</div>"
   ]
  },
  {
   "cell_type": "code",
   "execution_count": null,
   "id": "d6a62ee3",
   "metadata": {},
   "outputs": [],
   "source": []
  },
  {
   "cell_type": "code",
   "execution_count": null,
   "id": "bad4882b",
   "metadata": {},
   "outputs": [],
   "source": []
  },
  {
   "cell_type": "code",
   "execution_count": null,
   "id": "3794c30e",
   "metadata": {},
   "outputs": [],
   "source": []
  },
  {
   "cell_type": "code",
   "execution_count": null,
   "id": "c871210f",
   "metadata": {},
   "outputs": [],
   "source": []
  },
  {
   "cell_type": "code",
   "execution_count": null,
   "id": "d6473d7b",
   "metadata": {},
   "outputs": [],
   "source": []
  },
  {
   "cell_type": "code",
   "execution_count": null,
   "id": "20606dc9",
   "metadata": {},
   "outputs": [],
   "source": []
  }
 ],
 "metadata": {
  "kernelspec": {
   "display_name": "Python 3 (ipykernel)",
   "language": "python",
   "name": "python3"
  },
  "language_info": {
   "codemirror_mode": {
    "name": "ipython",
    "version": 3
   },
   "file_extension": ".py",
   "mimetype": "text/x-python",
   "name": "python",
   "nbconvert_exporter": "python",
   "pygments_lexer": "ipython3",
   "version": "3.9.5"
  }
 },
 "nbformat": 4,
 "nbformat_minor": 5
}
