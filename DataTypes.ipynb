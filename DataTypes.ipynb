{
 "cells": [
  {
   "cell_type": "markdown",
   "metadata": {},
   "source": [
    "# DateTime module and usage in python\n",
    "\n",
    "`.striptime()`: convert date to a datetime object \\\\\n",
    "`.strftime()` : print out item in a format \\\\\n",
    "`.isoformat()` : print out item as an ISO standard string \\\\"
   ]
  },
  {
   "cell_type": "code",
   "execution_count": 5,
   "metadata": {},
   "outputs": [
    {
     "name": "stdout",
     "output_type": "stream",
     "text": [
      "2021-10-11 09:06:30.861689\n"
     ]
    },
    {
     "data": {
      "text/plain": [
       "'10-11-2021'"
      ]
     },
     "execution_count": 5,
     "metadata": {},
     "output_type": "execute_result"
    }
   ],
   "source": [
    "from datetime import datetime\n",
    "local_dt = datetime.now()\n",
    "print(local_dt)\n",
    "local_dt.strftime('%m-%d-%Y')"
   ]
  },
  {
   "cell_type": "code",
   "execution_count": null,
   "metadata": {},
   "outputs": [],
   "source": []
  },
  {
   "cell_type": "code",
   "execution_count": null,
   "metadata": {},
   "outputs": [],
   "source": []
  }
 ],
 "metadata": {
  "interpreter": {
   "hash": "a25e747697fcb11dc46f0cb17eaf8f074c1e5d2075bb6918ee0c4a5674f37b0b"
  },
  "kernelspec": {
   "display_name": "Python 3.7.7 64-bit ('cse-163-final-project': conda)",
   "name": "python3"
  },
  "language_info": {
   "codemirror_mode": {
    "name": "ipython",
    "version": 3
   },
   "file_extension": ".py",
   "mimetype": "text/x-python",
   "name": "python",
   "nbconvert_exporter": "python",
   "pygments_lexer": "ipython3",
   "version": "3.7.7"
  },
  "orig_nbformat": 4
 },
 "nbformat": 4,
 "nbformat_minor": 2
}