{
 "cells": [
  {
   "cell_type": "markdown",
   "metadata": {},
   "source": [
    "# Data Types"
   ]
  },
  {
   "cell_type": "markdown",
   "metadata": {},
   "source": [
    "## 1. Basic types\n",
    "\n",
    "### 1.1 Lists\n",
    "\n",
    "`.extend()`: combine another list <br/>\n",
    "`.index()`: find the posiiton of an item <br/>\n",
    "`.pop()`: remove item <br/>\n",
    "`sorted(list, reverse = True))`: sort in order <br/>"
   ]
  },
  {
   "cell_type": "markdown",
   "metadata": {},
   "source": [
    "### 1.2 Tuples\n",
    "\n",
    "**immutable and ordered**"
   ]
  },
  {
   "cell_type": "code",
   "execution_count": 20,
   "metadata": {},
   "outputs": [
    {
     "name": "stdout",
     "output_type": "stream",
     "text": [
      "<class 'tuple'>\n"
     ]
    }
   ],
   "source": [
    "# make something immediately a tuple\n",
    "error = 'trailing comma',\n",
    "print(type(error))"
   ]
  },
  {
   "cell_type": "markdown",
   "metadata": {},
   "source": [
    "### 1.3 Sets\n",
    "\n",
    "**unique and unordered**\n",
    "\n",
    "`.union`: set 1 + set 2 <br/>\n",
    "`.inntersection`: set 1 overlaps with set2 <br/>\n",
    "`.difference`: difference between set 1 and set 2"
   ]
  },
  {
   "cell_type": "markdown",
   "metadata": {},
   "source": [
    "### 1.4 Dictionaries\n",
    "\n",
    "`for key, value in dictionary.items()` <br/>\n",
    "`dict[key] = value` <br/>\n",
    "`.get(key, 'not found')`: safely find key from the dict or 'not found' <br/>\n",
    "`.update([key1, value1], [key2, value2])` <br/>\n",
    "`.pop(key, {})`: safely remove key's value with an empty dict\n",
    "`del dict[key]` <br/>\n",
    "`if key in dict`<br/>"
   ]
  },
  {
   "cell_type": "markdown",
   "metadata": {},
   "source": [
    "### 1.5 Read file using CSV reader\n",
    "`import csv`\n",
    "`csvfile = open('name.csv', 'r')`\n",
    "`for row in csv.reader(csvfile)`"
   ]
  },
  {
   "cell_type": "markdown",
   "metadata": {},
   "source": [
    "## 2. Collections Module for Counting\n",
    "Counter <br/>\n",
    "defaultdict <br/>\n",
    "OrderedDict <br/> \n",
    "namedtuple <br/>\n"
   ]
  },
  {
   "cell_type": "code",
   "execution_count": 22,
   "metadata": {},
   "outputs": [
    {
     "name": "stdout",
     "output_type": "stream",
     "text": [
      "Counter({'Austin-Forest Park': 9, 'stationname': 1})\n",
      "[('Austin-Forest Park', 9)]\n"
     ]
    }
   ],
   "source": [
    "from collections import Counter\n",
    "\n",
    "stations = ['stationname', 'Austin-Forest Park', \n",
    "            'Austin-Forest Park', 'Austin-Forest Park', \n",
    "            'Austin-Forest Park', 'Austin-Forest Park', \n",
    "            'Austin-Forest Park', 'Austin-Forest Park', \n",
    "            'Austin-Forest Park', 'Austin-Forest Park']\n",
    "\n",
    "station_count = Counter(stations)\n",
    "\n",
    "print(station_count)\n",
    "print(station_count.most_common(1))"
   ]
  },
  {
   "cell_type": "code",
   "execution_count": 26,
   "metadata": {},
   "outputs": [
    {
     "name": "stdout",
     "output_type": "stream",
     "text": [
      "[('Austin-Forest Park', [587, 1386, 785, 625, 1752, 1777, 1269, 1435, 1631, 771])]\n"
     ]
    }
   ],
   "source": [
    "from collections import defaultdict\n",
    "\n",
    "entries = [('01/01/2015', 'Austin-Forest Park', 587),\n",
    " ('01/02/2015', 'Austin-Forest Park', 1386),\n",
    " ('01/03/2015', 'Austin-Forest Park', 785),\n",
    " ('01/04/2015', 'Austin-Forest Park', 625),\n",
    " ('01/05/2015', 'Austin-Forest Park', 1752),\n",
    " ('01/06/2015', 'Austin-Forest Park', 1777),\n",
    " ('01/07/2015', 'Austin-Forest Park', 1269),\n",
    " ('01/08/2015', 'Austin-Forest Park', 1435),\n",
    " ('01/09/2015', 'Austin-Forest Park', 1631),\n",
    " ('01/10/2015', 'Austin-Forest Park', 771)]\n",
    "\n",
    "# Create a defaultdict with a default type of list: ridership\n",
    "ridership = defaultdict(list)\n",
    "\n",
    "for date, stop, riders in entries:\n",
    "    ridership[stop].append(riders)\n",
    "\n",
    "print(list(ridership.items()))"
   ]
  },
  {
   "cell_type": "code",
   "execution_count": 28,
   "metadata": {},
   "outputs": [
    {
     "name": "stdout",
     "output_type": "stream",
     "text": [
      "[('01/01/2015', 587), ('01/02/2015', 1386), ('01/03/2015', 785), ('01/04/2015', 625), ('01/05/2015', 1752), ('01/06/2015', 1777), ('01/07/2015', 1269), ('01/08/2015', 1435), ('01/09/2015', 1631), ('01/10/2015', 771)]\n",
      "('01/01/2015', 587)\n",
      "('01/10/2015', 771)\n"
     ]
    }
   ],
   "source": [
    "from collections import OrderedDict\n",
    "\n",
    "ridership_date = OrderedDict()\n",
    "\n",
    "for date, stop, riders in entries:\n",
    "    if date not in ridership_date:\n",
    "        ridership_date[date] = 0\n",
    "    ridership_date[date] += riders\n",
    "\n",
    "print(list(ridership_date.items()))\n",
    "\n",
    "# pop the first item and print it\n",
    "print(ridership_date.popitem(last=False))\n",
    "print(ridership_date.popitem(last=True))\n"
   ]
  },
  {
   "cell_type": "code",
   "execution_count": 29,
   "metadata": {},
   "outputs": [
    {
     "name": "stdout",
     "output_type": "stream",
     "text": [
      "[Datedetails(date='01/01/2015', stop='Austin-Forest Park', riders=587), Datedetails(date='01/02/2015', stop='Austin-Forest Park', riders=1386), Datedetails(date='01/03/2015', stop='Austin-Forest Park', riders=785), Datedetails(date='01/04/2015', stop='Austin-Forest Park', riders=625), Datedetails(date='01/05/2015', stop='Austin-Forest Park', riders=1752), Datedetails(date='01/06/2015', stop='Austin-Forest Park', riders=1777), Datedetails(date='01/07/2015', stop='Austin-Forest Park', riders=1269), Datedetails(date='01/08/2015', stop='Austin-Forest Park', riders=1435), Datedetails(date='01/09/2015', stop='Austin-Forest Park', riders=1631), Datedetails(date='01/10/2015', stop='Austin-Forest Park', riders=771)]\n"
     ]
    }
   ],
   "source": [
    "from collections import namedtuple\n",
    "\n",
    "DateDetails = namedtuple('Datedetails', ['date', 'stop', 'riders'])\n",
    "labeled_entries = []\n",
    "\n",
    "for date, stop, riders in entries:\n",
    "    labeled_entries.append(DateDetails(date, stop, riders))\n",
    "\n",
    "print(labeled_entries)"
   ]
  },
  {
   "cell_type": "code",
   "execution_count": 34,
   "metadata": {},
   "outputs": [
    {
     "name": "stdout",
     "output_type": "stream",
     "text": [
      "Austin-Forest Park\n",
      "01/10/2015\n",
      "771\n"
     ]
    }
   ],
   "source": [
    "for item in labeled_entries[9:]:\n",
    "    print(item.stop)\n",
    "    print(item.date)\n",
    "    print(item.riders)"
   ]
  },
  {
   "cell_type": "markdown",
   "metadata": {},
   "source": [
    "## 3.1 DateTime module and usage in python\n",
    "\n",
    "`.striptime()`: convert date to a datetime object <br/>\n",
    "`.strftime()` : print out item in a format <br/>\n",
    "`.isoformat()` : print out item as an ISO standard string <br/>\n",
    "`.astimezone()`: get the time in another timezone <br/>"
   ]
  },
  {
   "cell_type": "code",
   "execution_count": 7,
   "metadata": {},
   "outputs": [
    {
     "name": "stdout",
     "output_type": "stream",
     "text": [
      "2021-10-11 09:12:44.050877\n"
     ]
    },
    {
     "data": {
      "text/plain": [
       "'10-11-2021'"
      ]
     },
     "execution_count": 7,
     "metadata": {},
     "output_type": "execute_result"
    }
   ],
   "source": [
    "from datetime import datetime\n",
    "local_dt = datetime.now()\n",
    "print(local_dt)\n",
    "local_dt.strftime('%m-%d-%Y')"
   ]
  },
  {
   "cell_type": "code",
   "execution_count": 12,
   "metadata": {},
   "outputs": [
    {
     "name": "stdout",
     "output_type": "stream",
     "text": [
      "2016-07-12 04:39:00-04:56\n",
      "2016-07-12 02:35:00-07:00\n"
     ]
    }
   ],
   "source": [
    "from pytz import timezone\n",
    "record_dt = datetime.strptime('07/12/2016 04:39PM','%m/%d/%Y %H:%M%p')\n",
    "ny_tz = timezone('US/Eastern')\n",
    "la_tz = timezone('US/Pacific')\n",
    "ny_dt = record_dt.replace(tzinfo = ny_tz)\n",
    "la_dt = ny_dt.astimezone(la_tz)\n",
    "print(ny_dt)\n",
    "print(la_dt)"
   ]
  },
  {
   "cell_type": "code",
   "execution_count": 13,
   "metadata": {},
   "outputs": [
    {
     "name": "stdout",
     "output_type": "stream",
     "text": [
      "2016-07-12 04:39:00\n",
      "2016-04-13 04:39:00\n",
      "2016-10-10 04:39:00\n"
     ]
    }
   ],
   "source": [
    "from datetime import timedelta\n",
    "record_dt = datetime.strptime('07/12/2016 04:39PM','%m/%d/%Y %H:%M%p')\n",
    "flashback = timedelta(days = 90)\n",
    "print(record_dt)\n",
    "print(record_dt - flashback)\n",
    "print(record_dt + flashback)"
   ]
  },
  {
   "cell_type": "code",
   "execution_count": 19,
   "metadata": {},
   "outputs": [],
   "source": [
    "%%capture\n",
    "import sys\n",
    "!conda install --yes --prefix {sys.prefix} pendulum"
   ]
  },
  {
   "cell_type": "code",
   "execution_count": 16,
   "metadata": {},
   "outputs": [
    {
     "name": "stdout",
     "output_type": "stream",
     "text": [
      "2021-10-11T09:55:26.861311-07:00\n"
     ]
    }
   ],
   "source": [
    "# Import the pendulum module\n",
    "import pendulum\n",
    "\n",
    "# Create a now datetime for Tokyo: tokyo_dt\n",
    "tokyo_dt = pendulum.now('Asia/Tokyo')\n",
    "\n",
    "# Covert the tokyo_dt to Los Angeles: la_dt\n",
    "la_dt = tokyo_dt.in_timezone('America/Los_Angeles')\n",
    "\n",
    "# Print the ISO 8601 string of la_dt\n",
    "print(la_dt.to_iso8601_string())"
   ]
  },
  {
   "cell_type": "code",
   "execution_count": 18,
   "metadata": {},
   "outputs": [
    {
     "name": "stdout",
     "output_type": "stream",
     "text": [
      "2001-03-01T00:00:00+00:00 2001-01-30T00:00:00+00:00\n",
      "30\n",
      "2001-04-30T00:00:00+00:00 2001-03-31T00:00:00+00:00\n",
      "30\n",
      "2001-06-29T00:00:00+00:00 2001-05-30T00:00:00+00:00\n",
      "30\n"
     ]
    }
   ],
   "source": [
    "# Iterate over date_ranges\n",
    "date_ranges = [('01/30/2001', '03/01/2001'), ('03/31/2001', '04/30/2001'), ('05/30/2001', '06/29/2001')]\n",
    "for start_date, end_date in date_ranges:\n",
    "\n",
    "    # Convert the start_date string to a pendulum date: start_dt \n",
    "    start_dt = pendulum.parse(start_date, strict = False)\n",
    "    \n",
    "    # Convert the end_date string to a pendulum date: end_dt \n",
    "    end_dt = pendulum.parse(end_date, strict = False)\n",
    "    \n",
    "    # Print the End and Start Date\n",
    "    print(end_dt, start_dt)\n",
    "    \n",
    "    # Calculate the difference between end_dt and start_dt: diff_period\n",
    "    diff_period = end_dt - start_dt\n",
    "    \n",
    "    # Print the difference in days\n",
    "    print(diff_period.in_days())"
   ]
  },
  {
   "cell_type": "code",
   "execution_count": null,
   "metadata": {},
   "outputs": [],
   "source": []
  }
 ],
 "metadata": {
  "interpreter": {
   "hash": "a25e747697fcb11dc46f0cb17eaf8f074c1e5d2075bb6918ee0c4a5674f37b0b"
  },
  "kernelspec": {
   "display_name": "Python 3.7.7 64-bit ('cse-163-final-project': conda)",
   "name": "python3"
  },
  "language_info": {
   "codemirror_mode": {
    "name": "ipython",
    "version": 3
   },
   "file_extension": ".py",
   "mimetype": "text/x-python",
   "name": "python",
   "nbconvert_exporter": "python",
   "pygments_lexer": "ipython3",
   "version": "3.7.7"
  },
  "orig_nbformat": 4
 },
 "nbformat": 4,
 "nbformat_minor": 2
}