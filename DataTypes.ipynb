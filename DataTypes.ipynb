{
 "cells": [
  {
   "cell_type": "markdown",
   "metadata": {},
   "source": [
    "# Data Types\n",
    "\n",
    "## 4. DateTime module and usage in python\n",
    "\n",
    "`.striptime()`: convert date to a datetime object <br/>\n",
    "`.strftime()` : print out item in a format <br/>\n",
    "`.isoformat()` : print out item as an ISO standard string <br/>\n",
    "`.astimezone()`: get the time in another timezone <br/>\n"
   ]
  },
  {
   "cell_type": "code",
   "execution_count": 7,
   "metadata": {},
   "outputs": [
    {
     "name": "stdout",
     "output_type": "stream",
     "text": [
      "2021-10-11 09:12:44.050877\n"
     ]
    },
    {
     "data": {
      "text/plain": [
       "'10-11-2021'"
      ]
     },
     "execution_count": 7,
     "metadata": {},
     "output_type": "execute_result"
    }
   ],
   "source": [
    "from datetime import datetime\n",
    "local_dt = datetime.now()\n",
    "print(local_dt)\n",
    "local_dt.strftime('%m-%d-%Y')"
   ]
  },
  {
   "cell_type": "code",
   "execution_count": 12,
   "metadata": {},
   "outputs": [
    {
     "name": "stdout",
     "output_type": "stream",
     "text": [
      "2016-07-12 04:39:00-04:56\n",
      "2016-07-12 02:35:00-07:00\n"
     ]
    }
   ],
   "source": [
    "from pytz import timezone\n",
    "record_dt = datetime.strptime('07/12/2016 04:39PM','%m/%d/%Y %H:%M%p')\n",
    "ny_tz = timezone('US/Eastern')\n",
    "la_tz = timezone('US/Pacific')\n",
    "ny_dt = record_dt.replace(tzinfo = ny_tz)\n",
    "la_dt = ny_dt.astimezone(la_tz)\n",
    "print(ny_dt)\n",
    "print(la_dt)"
   ]
  },
  {
   "cell_type": "code",
   "execution_count": 13,
   "metadata": {},
   "outputs": [
    {
     "name": "stdout",
     "output_type": "stream",
     "text": [
      "2016-07-12 04:39:00\n",
      "2016-04-13 04:39:00\n",
      "2016-10-10 04:39:00\n"
     ]
    }
   ],
   "source": [
    "from datetime import timedelta\n",
    "record_dt = datetime.strptime('07/12/2016 04:39PM','%m/%d/%Y %H:%M%p')\n",
    "flashback = timedelta(days = 90)\n",
    "print(record_dt)\n",
    "print(record_dt - flashback)\n",
    "print(record_dt + flashback)"
   ]
  },
  {
   "cell_type": "code",
   "execution_count": 15,
   "metadata": {},
   "outputs": [
    {
     "name": "stdout",
     "output_type": "stream",
     "text": [
      "Collecting package metadata (current_repodata.json): done\n",
      "Solving environment: done\n",
      "\n",
      "\n",
      "==> WARNING: A newer version of conda exists. <==\n",
      "  current version: 4.8.3\n",
      "  latest version: 4.10.3\n",
      "\n",
      "Please update conda by running\n",
      "\n",
      "    $ conda update -n base -c defaults conda\n",
      "\n",
      "\n",
      "\n",
      "## Package Plan ##\n",
      "\n",
      "  environment location: /Users/meredith/opt/anaconda3/envs/cse-163-final-project\n",
      "\n",
      "  added / updated specs:\n",
      "    - pendulum\n",
      "\n",
      "\n",
      "The following packages will be downloaded:\n",
      "\n",
      "    package                    |            build\n",
      "    ---------------------------|-----------------\n",
      "    pendulum-2.1.2             |     pyhd3eb1b0_1          72 KB\n",
      "    pytzdata-2020.1            |     pyhd3eb1b0_0         166 KB\n",
      "    ------------------------------------------------------------\n",
      "                                           Total:         238 KB\n",
      "\n",
      "The following NEW packages will be INSTALLED:\n",
      "\n",
      "  pendulum           pkgs/main/noarch::pendulum-2.1.2-pyhd3eb1b0_1\n",
      "  pytzdata           pkgs/main/noarch::pytzdata-2020.1-pyhd3eb1b0_0\n",
      "\n",
      "\n",
      "\n",
      "Downloading and Extracting Packages\n",
      "pendulum-2.1.2       | 72 KB     | ##################################### | 100% \n",
      "pytzdata-2020.1      | 166 KB    | ##################################### | 100% \n",
      "Preparing transaction: done\n",
      "Verifying transaction: done\n",
      "Executing transaction: done\n"
     ]
    }
   ],
   "source": [
    "import sys\n",
    "!conda install --yes --prefix {sys.prefix} pendulum"
   ]
  },
  {
   "cell_type": "code",
   "execution_count": 16,
   "metadata": {},
   "outputs": [
    {
     "name": "stdout",
     "output_type": "stream",
     "text": [
      "2021-10-11T09:55:26.861311-07:00\n"
     ]
    }
   ],
   "source": [
    "# Import the pendulum module\n",
    "import pendulum\n",
    "\n",
    "# Create a now datetime for Tokyo: tokyo_dt\n",
    "tokyo_dt = pendulum.now('Asia/Tokyo')\n",
    "\n",
    "# Covert the tokyo_dt to Los Angeles: la_dt\n",
    "la_dt = tokyo_dt.in_timezone('America/Los_Angeles')\n",
    "\n",
    "# Print the ISO 8601 string of la_dt\n",
    "print(la_dt.to_iso8601_string())"
   ]
  },
  {
   "cell_type": "code",
   "execution_count": 18,
   "metadata": {},
   "outputs": [
    {
     "name": "stdout",
     "output_type": "stream",
     "text": [
      "2001-03-01T00:00:00+00:00 2001-01-30T00:00:00+00:00\n",
      "30\n",
      "2001-04-30T00:00:00+00:00 2001-03-31T00:00:00+00:00\n",
      "30\n",
      "2001-06-29T00:00:00+00:00 2001-05-30T00:00:00+00:00\n",
      "30\n"
     ]
    }
   ],
   "source": [
    "# Iterate over date_ranges\n",
    "date_ranges = [('01/30/2001', '03/01/2001'), ('03/31/2001', '04/30/2001'), ('05/30/2001', '06/29/2001')]\n",
    "for start_date, end_date in date_ranges:\n",
    "\n",
    "    # Convert the start_date string to a pendulum date: start_dt \n",
    "    start_dt = pendulum.parse(start_date, strict = False)\n",
    "    \n",
    "    # Convert the end_date string to a pendulum date: end_dt \n",
    "    end_dt = pendulum.parse(end_date, strict = False)\n",
    "    \n",
    "    # Print the End and Start Date\n",
    "    print(end_dt, start_dt)\n",
    "    \n",
    "    # Calculate the difference between end_dt and start_dt: diff_period\n",
    "    diff_period = end_dt - start_dt\n",
    "    \n",
    "    # Print the difference in days\n",
    "    print(diff_period.in_days())"
   ]
  }
 ],
 "metadata": {
  "interpreter": {
   "hash": "a25e747697fcb11dc46f0cb17eaf8f074c1e5d2075bb6918ee0c4a5674f37b0b"
  },
  "kernelspec": {
   "display_name": "Python 3.7.7 64-bit ('cse-163-final-project': conda)",
   "name": "python3"
  },
  "language_info": {
   "codemirror_mode": {
    "name": "ipython",
    "version": 3
   },
   "file_extension": ".py",
   "mimetype": "text/x-python",
   "name": "python",
   "nbconvert_exporter": "python",
   "pygments_lexer": "ipython3",
   "version": "3.7.7"
  },
  "orig_nbformat": 4
 },
 "nbformat": 4,
 "nbformat_minor": 2
}