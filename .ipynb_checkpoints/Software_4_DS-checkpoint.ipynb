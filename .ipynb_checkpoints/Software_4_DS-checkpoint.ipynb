{
 "cells": [
  {
   "cell_type": "markdown",
   "id": "c7dfaa2e",
   "metadata": {},
   "source": [
    "# Sofeware Engineering for Data Scientist"
   ]
  },
  {
   "cell_type": "markdown",
   "id": "45f264fc",
   "metadata": {},
   "source": [
    "* **Modularity**\n",
    "    * Readability, maintainability, solve problem only once\n",
    "    * Object, Class, Package\n",
    "* **Documentation**\n",
    "    * Prevent confusion and frustration\n",
    "* **Testing**\n",
    "    * Find & fix more bugs, run tests anytime/anywhere"
   ]
  },
  {
   "cell_type": "markdown",
   "id": "a2239b51",
   "metadata": {},
   "source": [
    "## 1. PEP 8 coding style"
   ]
  },
  {
   "cell_type": "code",
   "execution_count": 6,
   "id": "60df7488",
   "metadata": {},
   "outputs": [],
   "source": [
    "%%capture\n",
    "# PEP 8 coding style\n",
    "!pip install pycodestyle\n",
    "\n",
    "# pycodestyle xx.py"
   ]
  },
  {
   "cell_type": "code",
   "execution_count": 20,
   "id": "ae4a9cec",
   "metadata": {},
   "outputs": [
    {
     "name": "stderr",
     "output_type": "stream",
     "text": [
      "13:1: W391 blank line at end of file\n"
     ]
    }
   ],
   "source": [
    "%%capture\n",
    "# Import needed package\n",
    "import pycodestyle\n",
    "\n",
    "# Create a StyleGuide instance\n",
    "style_checker = pycodestyle.StyleGuide()\n",
    "\n",
    "# Run PEP 8 check on multiple files\n",
    "result = style_checker.check_files(['DataTypes.ipynb',\n",
    "                                    'Efficient_Python.ipynb'])\n",
    "\n",
    "# Print result of PEP 8 style check\n",
    "print(result.messages)"
   ]
  },
  {
   "cell_type": "code",
   "execution_count": 10,
   "id": "765c4c4e",
   "metadata": {},
   "outputs": [],
   "source": [
    "%%capture\n",
    "pip install flake8 pycodestyle_magic"
   ]
  },
  {
   "cell_type": "code",
   "execution_count": 11,
   "id": "10d84a5c",
   "metadata": {
    "scrolled": true
   },
   "outputs": [],
   "source": [
    "%load_ext pycodestyle_magic"
   ]
  },
  {
   "cell_type": "code",
   "execution_count": 12,
   "id": "66bfcef3",
   "metadata": {},
   "outputs": [],
   "source": [
    "%pycodestyle_on\n",
    "# start to check jupyter notebook's style"
   ]
  },
  {
   "cell_type": "markdown",
   "id": "44b8f3fa",
   "metadata": {},
   "source": [
    "## 2. Writing First Package"
   ]
  },
  {
   "cell_type": "code",
   "execution_count": null,
   "id": "cd8a642e",
   "metadata": {},
   "outputs": [],
   "source": []
  },
  {
   "cell_type": "code",
   "execution_count": null,
   "id": "c7109abe",
   "metadata": {},
   "outputs": [],
   "source": []
  },
  {
   "cell_type": "code",
   "execution_count": null,
   "id": "12811870",
   "metadata": {},
   "outputs": [],
   "source": []
  },
  {
   "cell_type": "code",
   "execution_count": null,
   "id": "51cd6bcc",
   "metadata": {},
   "outputs": [],
   "source": []
  },
  {
   "cell_type": "code",
   "execution_count": null,
   "id": "19fae758",
   "metadata": {},
   "outputs": [],
   "source": []
  },
  {
   "cell_type": "code",
   "execution_count": null,
   "id": "e16de02e",
   "metadata": {},
   "outputs": [],
   "source": []
  }
 ],
 "metadata": {
  "kernelspec": {
   "display_name": "Python 3 (ipykernel)",
   "language": "python",
   "name": "python3"
  },
  "language_info": {
   "codemirror_mode": {
    "name": "ipython",
    "version": 3
   },
   "file_extension": ".py",
   "mimetype": "text/x-python",
   "name": "python",
   "nbconvert_exporter": "python",
   "pygments_lexer": "ipython3",
   "version": "3.9.5"
  }
 },
 "nbformat": 4,
 "nbformat_minor": 5
}
